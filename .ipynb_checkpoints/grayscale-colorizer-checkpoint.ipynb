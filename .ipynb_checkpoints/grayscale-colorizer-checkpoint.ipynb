{
 "cells": [
  {
   "cell_type": "code",
   "execution_count": 16,
   "id": "1d16b400-ff81-4d78-977d-0e0bb34a6c86",
   "metadata": {},
   "outputs": [
    {
     "name": "stdout",
     "output_type": "stream",
     "text": [
      "Requirement already satisfied: scikit-learn in /Users/babin39/miniforge3/envs/envm_tensorflow/lib/python3.9/site-packages (1.1.2)\n",
      "Requirement already satisfied: numpy>=1.17.3 in /Users/babin39/miniforge3/envs/envm_tensorflow/lib/python3.9/site-packages (from scikit-learn) (1.23.2)\n",
      "Requirement already satisfied: scipy>=1.3.2 in /Users/babin39/miniforge3/envs/envm_tensorflow/lib/python3.9/site-packages (from scikit-learn) (1.9.0)\n",
      "Requirement already satisfied: threadpoolctl>=2.0.0 in /Users/babin39/miniforge3/envs/envm_tensorflow/lib/python3.9/site-packages (from scikit-learn) (3.1.0)\n",
      "Requirement already satisfied: joblib>=1.0.0 in /Users/babin39/miniforge3/envs/envm_tensorflow/lib/python3.9/site-packages (from scikit-learn) (1.1.0)\n",
      "Note: you may need to restart the kernel to use updated packages.\n"
     ]
    }
   ],
   "source": [
    "pip install -U scikit-learn\n"
   ]
  },
  {
   "cell_type": "code",
   "execution_count": 18,
   "id": "22f094bf",
   "metadata": {},
   "outputs": [
    {
     "ename": "SyntaxError",
     "evalue": "invalid syntax (<ipython-input-18-d040502a50ee>, line 4)",
     "output_type": "error",
     "traceback": [
      "\u001b[0;36m  Input \u001b[0;32mIn [18]\u001b[0;36m\u001b[0m\n\u001b[0;31m    from scikit-learn.image.color import rgb2lab, lab2rgb, rgb2gray\u001b[0m\n\u001b[0m               ^\u001b[0m\n\u001b[0;31mSyntaxError\u001b[0m\u001b[0;31m:\u001b[0m invalid syntax\n"
     ]
    }
   ],
   "source": [
    "#Importing Libraries\n",
    "\n",
    "from keras.preprocessing.image import ImageDataGenerator\n",
    "from scikit.image.color import rgb2lab, lab2rgb, rgb2gray\n",
    "from scikit.image.io import imsave\n",
    "import numpy as np\n",
    "import os\n",
    "import random\n",
    "import tensorflow as tf\n",
    "from tensorflow.keras.utils import img_to_array, array_to_img,load_img"
   ]
  },
  {
   "cell_type": "code",
   "execution_count": null,
   "id": "82a39ed2-9c11-4b34-a4a4-0c9f5ff0f73e",
   "metadata": {},
   "outputs": [],
   "source": []
  }
 ],
 "metadata": {
  "kernelspec": {
   "display_name": "Python 3",
   "language": "python",
   "name": "python3"
  },
  "language_info": {
   "codemirror_mode": {
    "name": "ipython",
    "version": 3
   },
   "file_extension": ".py",
   "mimetype": "text/x-python",
   "name": "python",
   "nbconvert_exporter": "python",
   "pygments_lexer": "ipython3",
   "version": "3.9.12"
  }
 },
 "nbformat": 4,
 "nbformat_minor": 5
}
