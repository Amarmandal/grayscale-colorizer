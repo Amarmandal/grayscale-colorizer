{
 "cells": [
  {
   "cell_type": "code",
   "execution_count": 27,
   "id": "1d16b400-ff81-4d78-977d-0e0bb34a6c86",
   "metadata": {},
   "outputs": [],
   "source": [
    "#!pip install scikit-image"
   ]
  },
  {
   "cell_type": "code",
   "execution_count": 28,
   "id": "22f094bf",
   "metadata": {},
   "outputs": [],
   "source": [
    "#Importing Libraries\n",
    "\n",
    "from keras.preprocessing.image import ImageDataGenerator\n",
    "from skimage.color import rgb2lab, lab2rgb, rgb2gray\n",
    "from skimage.io import imsave\n",
    "import numpy as np\n",
    "import os\n",
    "import random\n",
    "import tensorflow as tf\n",
    "from tensorflow.keras.utils import img_to_array, array_to_img,load_img"
   ]
  },
  {
   "cell_type": "code",
   "execution_count": null,
   "id": "82a39ed2-9c11-4b34-a4a4-0c9f5ff0f73e",
   "metadata": {},
   "outputs": [],
   "source": []
  }
 ],
 "metadata": {
  "kernelspec": {
   "display_name": "Python 3",
   "language": "python",
   "name": "python3"
  },
  "language_info": {
   "codemirror_mode": {
    "name": "ipython",
    "version": 3
   },
   "file_extension": ".py",
   "mimetype": "text/x-python",
   "name": "python",
   "nbconvert_exporter": "python",
   "pygments_lexer": "ipython3",
   "version": "3.9.12"
  }
 },
 "nbformat": 4,
 "nbformat_minor": 5
}
